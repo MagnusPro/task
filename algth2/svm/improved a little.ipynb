{
 "cells": [
  {
   "cell_type": "markdown",
   "metadata": {},
   "source": [
    "## SVM Checker"
   ]
  },
  {
   "cell_type": "code",
   "execution_count": 1,
   "metadata": {
    "collapsed": true
   },
   "outputs": [],
   "source": [
    "%matplotlib inline\n",
    "import svm\n",
    "import numpy as np\n",
    "import matplotlib.pyplot as plt\n",
    "import matplotlib.cm as cm\n",
    "import itertools\n",
    "import scipy.ndimage as ndimage\n",
    "\n",
    "\n",
    "\n",
    "\n",
    "def example(num_samples=10, num_features=2, grid_size=200):\n",
    "    \n",
    "    samples = np.matrix(np.random.normal(size=num_samples * num_features)\n",
    "                        .reshape(num_samples, num_features))\n",
    "    \n",
    "    labels = 2 * (samples.sum(axis=1) > 0) - 1.0\n",
    "    \n",
    "    trainer = svm.SVMTrainer(svm.Kernel.gaussian(1))\n",
    "    \n",
    "    predictor = trainer.train(samples, labels)\n",
    "\n",
    "    plot(predictor, samples, labels, grid_size)\n",
    "\n",
    "\n",
    "def plot(predictor, X, y, grid_size):\n",
    "    \n",
    "    x_min, x_max = X[:, 0].min() - 1, X[:, 0].max() + 1\n",
    "    y_min, y_max = X[:, 1].min() - 1, X[:, 1].max() + 1\n",
    "    \n",
    "    xx, yy = np.meshgrid(\n",
    "        np.linspace(x_min, x_max, grid_size),\n",
    "        np.linspace(y_min, y_max, grid_size),\n",
    "        indexing='ij'\n",
    "    )\n",
    "    \n",
    "    flatten = lambda m: np.array(m).reshape(-1,)\n",
    "\n",
    "    result = []\n",
    "    \n",
    "    for (i, j) in itertools.product(range(grid_size), range(grid_size)):\n",
    "        point = np.array([xx[i, j], yy[i, j]]).reshape(1, 2)\n",
    "        result.append(predictor.predict(point))\n",
    "\n",
    "    Z = np.array(result).reshape(xx.shape)\n",
    "    \n",
    "    plt.contourf(\n",
    "        xx, yy, Z,\n",
    "        cmap=cm.Paired,\n",
    "        levels=[-0.01, 0.01],\n",
    "        extend='both',\n",
    "        alpha=0.8\n",
    "    )\n",
    "    \n",
    "    plt.scatter(\n",
    "        flatten(X[:, 0]),\n",
    "        flatten(X[:, 1]),\n",
    "        c=flatten(y),\n",
    "        cmap=cm.Paired\n",
    "    )\n",
    "    \n",
    "    plt.xlim(x_min, x_max)\n",
    "    plt.ylim(y_min, y_max)"
   ]
  },
  {
   "cell_type": "code",
   "execution_count": 2,
   "metadata": {
    "scrolled": true
   },
   "outputs": [
    {
     "name": "stdout",
     "output_type": "stream",
     "text": [
      "[[ 0.69001194  2.18687194]\n",
      " [ 1.49430705  0.60187947]\n",
      " [-1.15908052 -1.16720447]\n",
      " [ 0.41400316 -0.75009422]\n",
      " [ 1.09780166  1.58229258]\n",
      " [-0.60393047  1.93864501]\n",
      " [-0.3247083  -0.46595806]\n",
      " [ 1.74154176  0.61146827]\n",
      " [ 0.26552503 -0.09241052]\n",
      " [-1.21900998 -0.13141126]]\n",
      "k [[  1.00000000e+00   2.06068657e-01   6.52639432e-04   1.28942276e-02\n",
      "    7.66512458e-01   4.19810530e-01   1.77107746e-02   1.66325954e-01\n",
      "    6.80400465e-02   1.10050519e-02]\n",
      " [  2.06068657e-01   1.00000000e+00   6.18850474e-03   2.23701060e-01\n",
      "    5.71658669e-01   4.52853635e-02   1.08116393e-01   9.69855222e-01\n",
      "    3.69364281e-01   1.92565831e-02]\n",
      " [  6.52639432e-04   6.18850474e-03   1.00000000e+00   2.65992646e-01\n",
      "    1.78805720e-03   6.89301783e-03   5.52135516e-01   3.06213412e-03\n",
      "    2.03448676e-01   5.83780886e-01]\n",
      " [  1.28942276e-02   2.23701060e-01   2.65992646e-01   1.00000000e+00\n",
      "    5.21409685e-02   1.60386512e-02   7.31093445e-01   1.63964460e-01\n",
      "    7.96684287e-01   2.17675409e-01]\n",
      " [  7.66512458e-01   5.71658669e-01   1.78805720e-03   5.21409685e-02\n",
      "    1.00000000e+00   2.20592174e-01   4.46262671e-02   5.07402565e-01\n",
      "    1.74007404e-01   1.57297962e-02]\n",
      " [  4.19810530e-01   4.52853635e-02   6.89301783e-03   1.60386512e-02\n",
      "    2.20592174e-01   1.00000000e+00   5.33948773e-02   2.64812315e-02\n",
      "    8.71112088e-02   9.71277771e-02]\n",
      " [  1.77107746e-02   1.08116393e-01   5.52135516e-01   7.31093445e-01\n",
      "    4.46262671e-02   5.33948773e-02   1.00000000e+00   6.61971133e-02\n",
      "    7.83521654e-01   6.33909850e-01]\n",
      " [  1.66325954e-01   9.69855222e-01   3.06213412e-03   1.63964460e-01\n",
      "    5.07402565e-01   2.64812315e-02   6.61971133e-02   1.00000000e+00\n",
      "    2.62623096e-01   9.48192124e-03]\n",
      " [  6.80400465e-02   3.69364281e-01   2.03448676e-01   7.96684287e-01\n",
      "    1.74007404e-01   8.71112088e-02   7.83521654e-01   2.62623096e-01\n",
      "    1.00000000e+00   3.31979308e-01]\n",
      " [  1.10050519e-02   1.92565831e-02   5.83780886e-01   2.17675409e-01\n",
      "    1.57297962e-02   9.71277771e-02   6.33909850e-01   9.48192124e-03\n",
      "    3.31979308e-01   1.00000000e+00]]\n",
      "     pcost       dcost       gap    pres   dres\n",
      " 0: -3.0462e+00 -8.4257e+00  5e+00  4e-16  2e+00\n",
      " 1: -4.5123e+00 -5.7804e+00  1e+00  4e-16  7e-01\n",
      " 2: -7.3693e+00 -8.4527e+00  1e+00  1e-15  1e-01\n",
      " 3: -7.4887e+00 -7.5849e+00  1e-01  3e-15  1e-02\n",
      " 4: -7.5015e+00 -7.5044e+00  3e-03  2e-15  1e-04\n",
      " 5: -7.5022e+00 -7.5025e+00  2e-04  2e-15  1e-06\n",
      " 6: -7.5023e+00 -7.5023e+00  2e-05  1e-15  5e-16\n",
      " 7: -7.5023e+00 -7.5023e+00  3e-07  9e-16  3e-16\n",
      "Optimal solution found.\n"
     ]
    },
    {
     "data": {
      "image/png": "[encoded data removed]",
      "text/plain": [
       "<matplotlib.figure.Figure at 0x7fe5e851f2e8>"
      ]
     },
     "metadata": {},
     "output_type": "display_data"
    }
   ],
   "source": [
    "example()"
   ]
  },
  {
   "cell_type": "code",
   "execution_count": null,
   "metadata": {
    "collapsed": true
   },
   "outputs": [],
   "source": []
  }
 ],
 "metadata": {
  "kernelspec": {
   "display_name": "Python 3",
   "language": "python",
   "name": "python3"
  },
  "language_info": {
   "codemirror_mode": {
    "name": "ipython",
    "version": 3
   },
   "file_extension": ".py",
   "mimetype": "text/x-python",
   "name": "python",
   "nbconvert_exporter": "python",
   "pygments_lexer": "ipython3",
   "version": "3.6.3"
  }
 },
 "nbformat": 4,
 "nbformat_minor": 2
}
